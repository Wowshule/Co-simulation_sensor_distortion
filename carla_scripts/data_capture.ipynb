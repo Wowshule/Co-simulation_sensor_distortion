{
 "cells": [
  {
   "cell_type": "code",
   "execution_count": null,
   "metadata": {},
   "outputs": [],
   "source": [
    "import os\n",
    "import csv\n",
    "from cyber_record.record import Record\n",
    "from record_msg.parser import to_csv\n",
    "\n",
    "\n",
    "directory_path = '/home/shule/carla-cosim/apollo_bag/Apollo_straight_none/'\n",
    "save_path = '/home/shule/carla-cosim/carla_scripts/steer_log'\n",
    "topic = '/apollo/control'\n",
    "file_names = os.listdir(directory_path)\n",
    "\n",
    "print(file_names)\n",
    "for log_file in file_names:\n",
    "    rocord_file_path = directory_path + log_file\n",
    "    speed_file = save_path + log_file + '_speed_log.csv'\n",
    "\n",
    "    record = Record(rocord_file_path)\n",
    "    with open(speed_file, 'w', newline='') as file:\n",
    "        writer = csv.writer(file)\n",
    "        for topic, message, time in record.read_messages(topics = topic):\n",
    "            print(\"steering_target{}, speed{}\".format(message.steering_target, message.debug.simple_lon_debug.current_speed))\n",
    "            line = to_csv([message.steering_target,message.debug.simple_lon_debug.current_speed])\n",
    "            writer.writerow(line)\n",
    "\n",
    "\n",
    "\n",
    "\n"
   ]
  },
  {
   "cell_type": "code",
   "execution_count": 32,
   "metadata": {},
   "outputs": [
    {
     "ename": "ImportError",
     "evalue": "numpy.core.multiarray failed to import",
     "output_type": "error",
     "traceback": [
      "\u001b[0;31m---------------------------------------------------------------------------\u001b[0m",
      "\u001b[0;31mImportError\u001b[0m                               Traceback (most recent call last)",
      "\u001b[0;31mImportError\u001b[0m: numpy.core.multiarray failed to import"
     ]
    },
    {
     "ename": "ImportError",
     "evalue": "numpy.core.multiarray failed to import",
     "output_type": "error",
     "traceback": [
      "\u001b[0;31m---------------------------------------------------------------------------\u001b[0m",
      "\u001b[0;31mImportError\u001b[0m                               Traceback (most recent call last)",
      "\u001b[0;32m/tmp/ipykernel_10718/2901399427.py\u001b[0m in \u001b[0;36m<module>\u001b[0;34m\u001b[0m\n\u001b[1;32m      2\u001b[0m \u001b[0;32mimport\u001b[0m \u001b[0mcsv\u001b[0m\u001b[0;34m\u001b[0m\u001b[0;34m\u001b[0m\u001b[0m\n\u001b[1;32m      3\u001b[0m \u001b[0;32mfrom\u001b[0m \u001b[0mcyber_record\u001b[0m\u001b[0;34m.\u001b[0m\u001b[0mrecord\u001b[0m \u001b[0;32mimport\u001b[0m \u001b[0mRecord\u001b[0m\u001b[0;34m\u001b[0m\u001b[0;34m\u001b[0m\u001b[0m\n\u001b[0;32m----> 4\u001b[0;31m \u001b[0;32mfrom\u001b[0m \u001b[0mrecord_msg\u001b[0m\u001b[0;34m.\u001b[0m\u001b[0mparser\u001b[0m \u001b[0;32mimport\u001b[0m \u001b[0mto_csv\u001b[0m\u001b[0;34m\u001b[0m\u001b[0;34m\u001b[0m\u001b[0m\n\u001b[0m\u001b[1;32m      5\u001b[0m \u001b[0;34m\u001b[0m\u001b[0m\n\u001b[1;32m      6\u001b[0m \u001b[0mdirectory_path\u001b[0m \u001b[0;34m=\u001b[0m \u001b[0;34m'/home/shule/carla-cosim/apollo_bag/Apollo_straight_none/'\u001b[0m\u001b[0;34m\u001b[0m\u001b[0;34m\u001b[0m\u001b[0m\n",
      "\u001b[0;32m~/anaconda3/envs/carla_env/lib/python3.7/site-packages/record_msg/parser.py\u001b[0m in \u001b[0;36m<module>\u001b[0;34m\u001b[0m\n\u001b[1;32m     32\u001b[0m \u001b[0;34m\u001b[0m\u001b[0m\n\u001b[1;32m     33\u001b[0m \u001b[0;34m\u001b[0m\u001b[0m\n\u001b[0;32m---> 34\u001b[0;31m \u001b[0;32mimport\u001b[0m \u001b[0mcv2\u001b[0m\u001b[0;34m\u001b[0m\u001b[0;34m\u001b[0m\u001b[0m\n\u001b[0m\u001b[1;32m     35\u001b[0m \u001b[0;32mimport\u001b[0m \u001b[0mnumpy\u001b[0m \u001b[0;32mas\u001b[0m \u001b[0mnp\u001b[0m\u001b[0;34m\u001b[0m\u001b[0;34m\u001b[0m\u001b[0m\n\u001b[1;32m     36\u001b[0m \u001b[0;32mimport\u001b[0m \u001b[0mos\u001b[0m\u001b[0;34m\u001b[0m\u001b[0;34m\u001b[0m\u001b[0m\n",
      "\u001b[0;32m~/anaconda3/envs/carla_env/lib/python3.7/site-packages/cv2/__init__.py\u001b[0m in \u001b[0;36m<module>\u001b[0;34m\u001b[0m\n\u001b[1;32m      1\u001b[0m \u001b[0;32mimport\u001b[0m \u001b[0mimportlib\u001b[0m\u001b[0;34m\u001b[0m\u001b[0;34m\u001b[0m\u001b[0m\n\u001b[1;32m      2\u001b[0m \u001b[0;34m\u001b[0m\u001b[0m\n\u001b[0;32m----> 3\u001b[0;31m \u001b[0;32mfrom\u001b[0m \u001b[0;34m.\u001b[0m\u001b[0mcv2\u001b[0m \u001b[0;32mimport\u001b[0m \u001b[0;34m*\u001b[0m\u001b[0;34m\u001b[0m\u001b[0;34m\u001b[0m\u001b[0m\n\u001b[0m\u001b[1;32m      4\u001b[0m \u001b[0;32mfrom\u001b[0m \u001b[0;34m.\u001b[0m\u001b[0mdata\u001b[0m \u001b[0;32mimport\u001b[0m \u001b[0;34m*\u001b[0m\u001b[0;34m\u001b[0m\u001b[0;34m\u001b[0m\u001b[0m\n\u001b[1;32m      5\u001b[0m \u001b[0;34m\u001b[0m\u001b[0m\n",
      "\u001b[0;31mImportError\u001b[0m: numpy.core.multiarray failed to import"
     ]
    }
   ],
   "source": [
    "import os\n",
    "import csv\n",
    "from cyber_record.record import Record\n",
    "from record_msg.parser import to_csv\n",
    "\n",
    "directory_path = '/home/shule/carla-cosim/apollo_bag/Apollo_straight_none/'\n",
    "topic = '/apollo/control'\n",
    "\n",
    "save_directory = '/home/shule/carla-cosim/carla_scripts/log/'  # 修改目标目录\n",
    "\n",
    "\n",
    "file_names = os.listdir(directory_path)\n",
    "print(file_names)\n",
    "\n",
    "effect = 'None'\n",
    "scenriao = 'Straight'\n",
    "test_time = '01'\n",
    "congif = 'None'\n",
    "\n",
    "csv_file_name = scenriao+\"_\"+effect+\"_\"+congif+\"_\"+test_time+ '.csv'\n",
    "csv_file_name = os.path.join(save_directory + csv_file_name)\n",
    "\n",
    "with open(csv_file_name, 'w', newline='') as file:\n",
    "    writer = csv.writer(file)\n",
    "\n",
    "    for log_file in file_names:\n",
    "        record_file_path = os.path.join(directory_path, log_file)\n",
    "        record = Record(record_file_path)\n",
    "        for topic, message, time in record.read_messages(topics=topic):\n",
    "            # print(\"steering_target{}, speed{}\".format(message.steering_target, message.debug.simple_lon_debug.current_speed))\n",
    "            line = to_csv([message.steering_target, message.debug.simple_lon_debug.current_speed])\n",
    "            writer.writerow(line)"
   ]
  },
  {
   "cell_type": "code",
   "execution_count": 9,
   "metadata": {},
   "outputs": [
    {
     "name": "stdout",
     "output_type": "stream",
     "text": [
      "/home/shule/carla-cosim/experiment_results/Straight/test01/carla_Straight_None__01.log\n"
     ]
    },
    {
     "data": {
      "text/plain": [
       "'/home/shule/carla-cosim/experiment_results/Straight/test01/carla_Straight_None__01.log'"
      ]
     },
     "execution_count": 9,
     "metadata": {},
     "output_type": "execute_result"
    }
   ],
   "source": [
    "import carla\n",
    "import os\n",
    "\n",
    "client = carla.Client('localhost', 2000)\n",
    "\n",
    "directory_path = '/home/shule/carla-cosim/experiment_results/Straight/test01/'\n",
    "\n",
    "effect = 'None'\n",
    "scenriao = 'Straight'\n",
    "test_time = '01'\n",
    "congif = ''\n",
    "\n",
    "log_file_name = 'carla_'+ scenriao+\"_\"+effect+\"_\"+congif+\"_\"+test_time+ '.log'\n",
    "reocrd_path = os.path.join(directory_path + log_file_name)\n",
    "print(reocrd_path)\n",
    "\n",
    "client.start_recorder(reocrd_path, True)\n",
    "\n"
   ]
  },
  {
   "cell_type": "code",
   "execution_count": 10,
   "metadata": {},
   "outputs": [],
   "source": [
    "import carla\n",
    "client = carla.Client('localhost', 2000)\n",
    "client.stop_recorder()"
   ]
  }
 ],
 "metadata": {
  "kernelspec": {
   "display_name": "carla_env",
   "language": "python",
   "name": "python3"
  },
  "language_info": {
   "codemirror_mode": {
    "name": "ipython",
    "version": 3
   },
   "file_extension": ".py",
   "mimetype": "text/x-python",
   "name": "python",
   "nbconvert_exporter": "python",
   "pygments_lexer": "ipython3",
   "version": "3.7.16"
  },
  "orig_nbformat": 4
 },
 "nbformat": 4,
 "nbformat_minor": 2
}
